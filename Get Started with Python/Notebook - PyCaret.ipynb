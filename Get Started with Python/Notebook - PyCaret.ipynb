{
 "cells": [
  {
   "cell_type": "code",
   "execution_count": 12,
   "metadata": {},
   "outputs": [
    {
     "name": "stdout",
     "output_type": "stream",
     "text": [
      "zsh:1: no matches found: pycaret[full]\n",
      "Note: you may need to restart the kernel to use updated packages.\n"
     ]
    }
   ],
   "source": [
    "\"\"\"\n",
    "PyCaret is a Python library for machine learning that provides a streamlined workflow for building and deploying ML models in your business applications.\n",
    "PyCaret is an open-source, low-code machine learning library in Python that allows you to go from preparing your data to deploying your model within minutes in your choice of notebook environment.\n",
    "PyCaret is a great library for beginners to start their journey in Data Science and Machine Learning. It is a low-code library that combines many popular libraries such as scikit-learn, XGBoost, LightGBM, CatBoost, spaCy, Optuna, Hyperopt, Ray, and many more.\n",
    "\"\"\"\n",
    "# install just the get_data from PyCaret\n",
    "%pip install pycaret[full]"
   ]
  },
  {
   "attachments": {},
   "cell_type": "markdown",
   "metadata": {},
   "source": [
    "# Problem statement\n",
    "\n",
    "Optimize NYC TLC operations for profit based on historical data.\n",
    "\n",
    "## Data sourcing"
   ]
  },
  {
   "cell_type": "code",
   "execution_count": 13,
   "metadata": {},
   "outputs": [
    {
     "ename": "ModuleNotFoundError",
     "evalue": "No module named 'pycaret'",
     "output_type": "error",
     "traceback": [
      "\u001b[0;31m---------------------------------------------------------------------------\u001b[0m",
      "\u001b[0;31mModuleNotFoundError\u001b[0m                       Traceback (most recent call last)",
      "Cell \u001b[0;32mIn[13], line 3\u001b[0m\n\u001b[1;32m      1\u001b[0m \u001b[39m# load the 2017_Yellow_Taxi_Trip_Data.csv dataset\u001b[39;00m\n\u001b[1;32m      2\u001b[0m \u001b[39m# The from keyword is used to import the get_data() function from the pycaret.datasets module.\u001b[39;00m\n\u001b[0;32m----> 3\u001b[0m \u001b[39mfrom\u001b[39;00m \u001b[39mpycaret\u001b[39;00m\u001b[39m.\u001b[39;00m\u001b[39mdatasets\u001b[39;00m \u001b[39mimport\u001b[39;00m get_data\n\u001b[1;32m      4\u001b[0m \u001b[39m# The get_data() function takes one parameter: the name of the dataset.\u001b[39;00m\n\u001b[1;32m      5\u001b[0m data \u001b[39m=\u001b[39m get_data(\u001b[39m'\u001b[39m\u001b[39mtaxi\u001b[39m\u001b[39m'\u001b[39m)\n",
      "\u001b[0;31mModuleNotFoundError\u001b[0m: No module named 'pycaret'"
     ]
    }
   ],
   "source": [
    "# load the 2017_Yellow_Taxi_Trip_Data.csv dataset\n",
    "# The from keyword is used to import the get_data() function from the pycaret.datasets module.\n",
    "from pycaret.datasets import get_data\n",
    "# The get_data() function takes one parameter: the name of the dataset.\n",
    "data = get_data('taxi')"
   ]
  },
  {
   "attachments": {},
   "cell_type": "markdown",
   "metadata": {},
   "source": [
    "## Exploratory data analysis (EDA)\n",
    "Let's do some quick viz to assess the relationships"
   ]
  }
 ],
 "metadata": {
  "kernelspec": {
   "display_name": "Python 3",
   "language": "python",
   "name": "python3"
  },
  "language_info": {
   "codemirror_mode": {
    "name": "ipython",
    "version": 3
   },
   "file_extension": ".py",
   "mimetype": "text/x-python",
   "name": "python",
   "nbconvert_exporter": "python",
   "pygments_lexer": "ipython3",
   "version": "3.11.3"
  },
  "orig_nbformat": 4
 },
 "nbformat": 4,
 "nbformat_minor": 2
}
